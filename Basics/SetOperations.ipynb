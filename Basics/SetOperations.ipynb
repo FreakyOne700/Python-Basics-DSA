{
  "nbformat": 4,
  "nbformat_minor": 0,
  "metadata": {
    "colab": {
      "provenance": [],
      "toc_visible": true,
      "authorship_tag": "ABX9TyPu4bvXo3gsYQ7MtiRysCkV",
      "include_colab_link": true
    },
    "kernelspec": {
      "name": "python3",
      "display_name": "Python 3"
    },
    "language_info": {
      "name": "python"
    }
  },
  "cells": [
    {
      "cell_type": "markdown",
      "metadata": {
        "id": "view-in-github",
        "colab_type": "text"
      },
      "source": [
        "<a href=\"https://colab.research.google.com/github/FreakyOne700/Python-Basics-DSA/blob/main/Basics/SetOperations.ipynb\" target=\"_parent\"><img src=\"https://colab.research.google.com/assets/colab-badge.svg\" alt=\"Open In Colab\"/></a>"
      ]
    },
    {
      "cell_type": "markdown",
      "source": [
        "# **Basic Set Operations in Python**\n",
        "\n",
        "---\n",
        "\n"
      ],
      "metadata": {
        "id": "0kkstX-Pt9QB"
      }
    },
    {
      "cell_type": "markdown",
      "source": [
        "#Creating Python Set using { }\n",
        "\n",
        "Syntax => set = {E1,E2......,En} E = element (not include mutables)\n",
        "\n"
      ],
      "metadata": {
        "id": "6HHK1XXXuVmK"
      }
    },
    {
      "cell_type": "code",
      "source": [
        "set1 = {1,2,3,4,\"hello\",}\n",
        "set1\n"
      ],
      "metadata": {
        "colab": {
          "base_uri": "https://localhost:8080/"
        },
        "id": "To49JX8Vt-fu",
        "outputId": "4abe5a02-a934-46ed-d1da-93ed5665dec5"
      },
      "execution_count": 4,
      "outputs": [
        {
          "output_type": "execute_result",
          "data": {
            "text/plain": [
              "{1, 2, 3, 4, 'hello'}"
            ]
          },
          "metadata": {},
          "execution_count": 4
        }
      ]
    },
    {
      "cell_type": "markdown",
      "source": [
        "When creating empty set ,using set constructor as { } produces empty **dictionary**\n"
      ],
      "metadata": {
        "id": "elTBz_t_0F_4"
      }
    },
    {
      "cell_type": "code",
      "source": [
        "seta = {}\n",
        "setb = set()\n",
        "type(seta),type(setb)"
      ],
      "metadata": {
        "colab": {
          "base_uri": "https://localhost:8080/"
        },
        "id": "_if1EVH_0A7G",
        "outputId": "5d0c8c29-13cf-4453-bdb3-7d607d6c97ef"
      },
      "execution_count": 5,
      "outputs": [
        {
          "output_type": "execute_result",
          "data": {
            "text/plain": [
              "(dict, set)"
            ]
          },
          "metadata": {},
          "execution_count": 5
        }
      ]
    },
    {
      "cell_type": "markdown",
      "source": [
        "#Creating Python Set with Set Constructor\n",
        "\n",
        "Syntax => set = set(iterable) iterable = list,tuples etc"
      ],
      "metadata": {
        "id": "CQ5x15p_vKkA"
      }
    },
    {
      "cell_type": "code",
      "source": [
        "set2 = \"hello\" #string\n",
        "set3 =set(set2)\n",
        "type(set2),type(set3) #set2 = String | set3 = set (after using constructor)\n"
      ],
      "metadata": {
        "colab": {
          "base_uri": "https://localhost:8080/"
        },
        "id": "YANIwks2vIwu",
        "outputId": "9240163e-d02c-4cfc-adb4-9f272331f44c"
      },
      "execution_count": 6,
      "outputs": [
        {
          "output_type": "execute_result",
          "data": {
            "text/plain": [
              "(str, set)"
            ]
          },
          "metadata": {},
          "execution_count": 6
        }
      ]
    },
    {
      "cell_type": "markdown",
      "source": [
        "#Creating Python Set with Set Comprehension\n",
        "\n",
        "Syntax => set = {*comprehension statement*}"
      ],
      "metadata": {
        "id": "aNDZjZRQwSgt"
      }
    },
    {
      "cell_type": "code",
      "source": [
        "set4 = {x for x in range(1,11)}\n",
        "set4"
      ],
      "metadata": {
        "colab": {
          "base_uri": "https://localhost:8080/"
        },
        "id": "F6VF-CrBviXy",
        "outputId": "a08642be-fd1d-4ed0-c3e9-634ee1cb151c"
      },
      "execution_count": 7,
      "outputs": [
        {
          "output_type": "execute_result",
          "data": {
            "text/plain": [
              "{1, 2, 3, 4, 5, 6, 7, 8, 9, 10}"
            ]
          },
          "metadata": {},
          "execution_count": 7
        }
      ]
    },
    {
      "cell_type": "code",
      "source": [
        "set5 = {x for x in range(1,20) if x%2== 0}\n",
        "set5"
      ],
      "metadata": {
        "colab": {
          "base_uri": "https://localhost:8080/"
        },
        "id": "aX7exUecwd_p",
        "outputId": "f27edb7d-1c1f-4d26-d773-3c6e704ca362"
      },
      "execution_count": 8,
      "outputs": [
        {
          "output_type": "execute_result",
          "data": {
            "text/plain": [
              "{2, 4, 6, 8, 10, 12, 14, 16, 18}"
            ]
          },
          "metadata": {},
          "execution_count": 8
        }
      ]
    },
    {
      "cell_type": "markdown",
      "source": [
        "#Removing Elements from Set\n",
        "Using remove function\n",
        "\n",
        "\n",
        "Syntax => set.remove(target **element**)"
      ],
      "metadata": {
        "id": "SbMkIVG-wsL7"
      }
    },
    {
      "cell_type": "code",
      "source": [
        "set5.remove(4) #Returns error if element not in set\n",
        "set5"
      ],
      "metadata": {
        "colab": {
          "base_uri": "https://localhost:8080/"
        },
        "id": "MUAlEQ8Wwkh-",
        "outputId": "6ec004ff-d1d1-4d76-ed99-6a4ae8468e6d"
      },
      "execution_count": 9,
      "outputs": [
        {
          "output_type": "execute_result",
          "data": {
            "text/plain": [
              "{2, 6, 8, 10, 12, 14, 16, 18}"
            ]
          },
          "metadata": {},
          "execution_count": 9
        }
      ]
    },
    {
      "cell_type": "markdown",
      "source": [
        "Using discard function\n",
        "\n",
        "Syntax => set5.remove(target **element**)\n"
      ],
      "metadata": {
        "id": "SsTZ966_yJnL"
      }
    },
    {
      "cell_type": "code",
      "source": [
        "set5.discard(5) #Doesnt return error if element not in set\n",
        "set5\n"
      ],
      "metadata": {
        "colab": {
          "base_uri": "https://localhost:8080/"
        },
        "id": "j3HcmD54xzVR",
        "outputId": "f1af8869-adb8-4b81-8635-61f0d234edd9"
      },
      "execution_count": 10,
      "outputs": [
        {
          "output_type": "execute_result",
          "data": {
            "text/plain": [
              "{2, 6, 8, 10, 12, 14, 16, 18}"
            ]
          },
          "metadata": {},
          "execution_count": 10
        }
      ]
    },
    {
      "cell_type": "markdown",
      "source": [
        "#Adding elements to set\n",
        "\n",
        "Add an element in set using *add* function\n",
        "\n",
        "Syntax => set.add(*element*) #Only one argument"
      ],
      "metadata": {
        "id": "xbFVK-FkzKDv"
      }
    },
    {
      "cell_type": "code",
      "source": [
        "set5.add(9) #Add and sort\n",
        "set5"
      ],
      "metadata": {
        "colab": {
          "base_uri": "https://localhost:8080/"
        },
        "id": "9FdQwUu8y6GS",
        "outputId": "6595fafd-00a8-42a9-9f4f-a28ae235c029"
      },
      "execution_count": 11,
      "outputs": [
        {
          "output_type": "execute_result",
          "data": {
            "text/plain": [
              "{2, 6, 8, 9, 10, 12, 14, 16, 18}"
            ]
          },
          "metadata": {},
          "execution_count": 11
        }
      ]
    },
    {
      "cell_type": "markdown",
      "source": [
        "#Union\n",
        "\n",
        "Union (|): Returns a new set containing all elements from both sets.\n"
      ],
      "metadata": {
        "id": "J-87QTFd1bFA"
      }
    },
    {
      "cell_type": "code",
      "source": [
        "set1 = {1,2,3,}\n",
        "set2 = {1,2,3,4,5}\n",
        "set_union = set1 | set2\n",
        "set_union"
      ],
      "metadata": {
        "colab": {
          "base_uri": "https://localhost:8080/"
        },
        "id": "8Gheh58r1sx1",
        "outputId": "b752ca41-af83-4efb-b7a7-18157ae2bf20"
      },
      "execution_count": 12,
      "outputs": [
        {
          "output_type": "execute_result",
          "data": {
            "text/plain": [
              "{1, 2, 3, 4, 5}"
            ]
          },
          "metadata": {},
          "execution_count": 12
        }
      ]
    },
    {
      "cell_type": "markdown",
      "source": [
        "#Symmetric Difference\n",
        "\n",
        "Symmetric Difference (^): Returns a new set containing elements that are in either set but not in both."
      ],
      "metadata": {
        "id": "7Ig7pEOh1OkQ"
      }
    },
    {
      "cell_type": "code",
      "source": [
        "set1.add(6)\n",
        "symmetric_diff_set = set1 ^ set2\n",
        "symmetric_diff_set"
      ],
      "metadata": {
        "colab": {
          "base_uri": "https://localhost:8080/"
        },
        "id": "yWAyHMBO0ftG",
        "outputId": "89d3ccb7-a473-424c-9f4c-f6aef77eb7dd"
      },
      "execution_count": 13,
      "outputs": [
        {
          "output_type": "execute_result",
          "data": {
            "text/plain": [
              "{4, 5, 6}"
            ]
          },
          "metadata": {},
          "execution_count": 13
        }
      ]
    },
    {
      "cell_type": "markdown",
      "source": [
        "#Intersection\n",
        "\n",
        "Intersection (&): Returns a new set containing elements present in both sets."
      ],
      "metadata": {
        "id": "fp-QN3Sa3LWM"
      }
    },
    {
      "cell_type": "code",
      "source": [
        "intersection_Set = set1 & set2\n",
        "intersection_Set"
      ],
      "metadata": {
        "colab": {
          "base_uri": "https://localhost:8080/"
        },
        "id": "bahzwxP-2EdJ",
        "outputId": "7463abf1-ae40-4b4d-9832-9ee9bd5a0394"
      },
      "execution_count": 14,
      "outputs": [
        {
          "output_type": "execute_result",
          "data": {
            "text/plain": [
              "{1, 2, 3}"
            ]
          },
          "metadata": {},
          "execution_count": 14
        }
      ]
    },
    {
      "cell_type": "markdown",
      "source": [
        "#Difference\n",
        "\n",
        "Difference (-): Returns a new set containing elements in the first set but not in the second."
      ],
      "metadata": {
        "id": "DHuu3IJc3lFt"
      }
    },
    {
      "cell_type": "code",
      "source": [
        "diff_Set = set1 - set2\n",
        "print(set1,set2,sep = \"\\n\")\n",
        "diff_Set"
      ],
      "metadata": {
        "colab": {
          "base_uri": "https://localhost:8080/"
        },
        "id": "mXbr8loC3WRG",
        "outputId": "ad057b93-97ad-4cc4-b9c8-20ddf5c41dfa"
      },
      "execution_count": 15,
      "outputs": [
        {
          "output_type": "stream",
          "name": "stdout",
          "text": [
            "{1, 2, 3, 6}\n",
            "{1, 2, 3, 4, 5}\n"
          ]
        },
        {
          "output_type": "execute_result",
          "data": {
            "text/plain": [
              "{6}"
            ]
          },
          "metadata": {},
          "execution_count": 15
        }
      ]
    },
    {
      "cell_type": "markdown",
      "source": [
        "#Subset\n",
        "\n",
        "issubset(other_set): Checks if all elements in the first set are also in the second set. Returns True if it's a subset, False otherwise."
      ],
      "metadata": {
        "id": "w6kFSgq13-qU"
      }
    },
    {
      "cell_type": "code",
      "source": [
        "set1.issubset(set2)"
      ],
      "metadata": {
        "colab": {
          "base_uri": "https://localhost:8080/"
        },
        "id": "j5aQeTQQ3rtz",
        "outputId": "9d2d6c40-47cf-4b62-d0c2-9754bb840b34"
      },
      "execution_count": 16,
      "outputs": [
        {
          "output_type": "execute_result",
          "data": {
            "text/plain": [
              "False"
            ]
          },
          "metadata": {},
          "execution_count": 16
        }
      ]
    },
    {
      "cell_type": "code",
      "source": [
        "set3 = {1,2,3}\n",
        "set3.issubset(set2)"
      ],
      "metadata": {
        "colab": {
          "base_uri": "https://localhost:8080/"
        },
        "id": "2iK-lanv4Ego",
        "outputId": "5c20722c-983a-492b-dda5-c8b9ae4b8eff"
      },
      "execution_count": 17,
      "outputs": [
        {
          "output_type": "execute_result",
          "data": {
            "text/plain": [
              "True"
            ]
          },
          "metadata": {},
          "execution_count": 17
        }
      ]
    },
    {
      "cell_type": "markdown",
      "source": [
        "#Superset\n",
        "\n",
        "issuperset(other_set): Checks if the first set contains all elements of the second set. Returns True if it's a superset, False otherwise."
      ],
      "metadata": {
        "id": "shhtTvsC4OwP"
      }
    },
    {
      "cell_type": "code",
      "source": [
        "set2.issuperset(set3)"
      ],
      "metadata": {
        "colab": {
          "base_uri": "https://localhost:8080/"
        },
        "id": "cMT217eB4NFg",
        "outputId": "372bd0c3-3250-4da9-89e9-98fad2e956f4"
      },
      "execution_count": 18,
      "outputs": [
        {
          "output_type": "execute_result",
          "data": {
            "text/plain": [
              "True"
            ]
          },
          "metadata": {},
          "execution_count": 18
        }
      ]
    },
    {
      "cell_type": "code",
      "source": [
        "set1 = set([1,2,3,4,5,6,7,8])\n",
        "set1.issuperset(set3)"
      ],
      "metadata": {
        "colab": {
          "base_uri": "https://localhost:8080/"
        },
        "id": "Ng7C3Bji4Wxa",
        "outputId": "278dd868-ce60-44c0-f889-69d9dad3e8d0"
      },
      "execution_count": 19,
      "outputs": [
        {
          "output_type": "execute_result",
          "data": {
            "text/plain": [
              "True"
            ]
          },
          "metadata": {},
          "execution_count": 19
        }
      ]
    },
    {
      "cell_type": "markdown",
      "source": [
        "#Disjoint\n",
        "\n",
        "isdisjoint(other_set): Checks if the sets have no common elements. Returns True if they are disjoint, False otherwise."
      ],
      "metadata": {
        "id": "VJMBdNx942A8"
      }
    },
    {
      "cell_type": "code",
      "source": [
        "set_1 = {1,2,3,4,5}\n",
        "set_2 = {6,7,8,9,10}\n",
        "set_1.isdisjoint(set_2)"
      ],
      "metadata": {
        "colab": {
          "base_uri": "https://localhost:8080/"
        },
        "id": "7gTtYo0j4ZV5",
        "outputId": "600c0fd9-5f80-4d1c-9cad-d1cc32f2c101"
      },
      "execution_count": 22,
      "outputs": [
        {
          "output_type": "execute_result",
          "data": {
            "text/plain": [
              "True"
            ]
          },
          "metadata": {},
          "execution_count": 22
        }
      ]
    },
    {
      "cell_type": "code",
      "source": [],
      "metadata": {
        "id": "aYaFn6E65DW0"
      },
      "execution_count": null,
      "outputs": []
    }
  ]
}